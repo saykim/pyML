{
 "cells": [
  {
   "cell_type": "code",
   "execution_count": 1,
   "metadata": {},
   "outputs": [],
   "source": [
    "import tensorflow as tf"
   ]
  },
  {
   "cell_type": "code",
   "execution_count": 6,
   "metadata": {},
   "outputs": [
    {
     "name": "stdout",
     "output_type": "stream",
     "text": [
      "0 1.0707222 [2.4418612] [3.67974]\n",
      "3000 0.000806598 [2.9804273] [1.1237934]\n",
      "6000 1.6962128e-06 [2.9991026] [1.0056752]\n",
      "9000 3.6628989e-09 [2.9999583] [1.0002636]\n",
      "12000 2.3665053e-10 [2.999989] [1.0000681]\n",
      "15000 2.3665053e-10 [2.999989] [1.0000681]\n",
      "18000 2.3665053e-10 [2.999989] [1.0000681]\n",
      "21000 2.3665053e-10 [2.999989] [1.0000681]\n",
      "24000 2.3665053e-10 [2.999989] [1.0000681]\n",
      "27000 2.3665053e-10 [2.999989] [1.0000681]\n",
      "30000 2.3665053e-10 [2.999989] [1.0000681]\n"
     ]
    }
   ],
   "source": [
    "x_data = [4,5,6,7,8]\n",
    "y_data = [13,16,19,22,25]\n",
    "\n",
    "X = tf.placeholder(tf.float32)\n",
    "Y = tf.placeholder(tf.float32)\n",
    "\n",
    "W = tf.Variable(tf.random_uniform([1], -5, 5))\n",
    "b = tf.Variable(tf.random_uniform([1], -5, 5))\n",
    "\n",
    "hypothesis = W*X + b\n",
    "cost = tf.reduce_mean(tf.square(hypothesis-Y))\n",
    "optimizer = tf.train.GradientDescentOptimizer(learning_rate=0.01)\n",
    "train = optimizer.minimize(cost)\n",
    "\n",
    "init = tf.global_variables_initializer()\n",
    "sess = tf.Session()\n",
    "sess.run(init)\n",
    "\n",
    "for step in range(30001):\n",
    "    sess.run(train, feed_dict={X:x_data, Y:y_data})\n",
    "    if step % 3000 == 0 :\n",
    "        print(step, sess.run(cost, feed_dict={X:x_data, Y:y_data}),\n",
    "             sess.run(W), sess.run(b))"
   ]
  },
  {
   "cell_type": "code",
   "execution_count": null,
   "metadata": {},
   "outputs": [],
   "source": []
  }
 ],
 "metadata": {
  "kernelspec": {
   "display_name": "Python 3",
   "language": "python",
   "name": "python3"
  },
  "language_info": {
   "codemirror_mode": {
    "name": "ipython",
    "version": 3
   },
   "file_extension": ".py",
   "mimetype": "text/x-python",
   "name": "python",
   "nbconvert_exporter": "python",
   "pygments_lexer": "ipython3",
   "version": "3.6.8"
  }
 },
 "nbformat": 4,
 "nbformat_minor": 2
}
