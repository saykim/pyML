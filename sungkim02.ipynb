{
 "cells": [
  {
   "cell_type": "code",
   "execution_count": 1,
   "metadata": {},
   "outputs": [],
   "source": [
    "import tensorflow as tf"
   ]
  },
  {
   "cell_type": "code",
   "execution_count": 2,
   "metadata": {},
   "outputs": [],
   "source": [
    "x_train = [1,2,3]\n",
    "y_train = [1,2,3]\n",
    "\n",
    "W = tf.Variable(tf.random_normal([1]), name='weight')\n",
    "b = tf.Variable(tf.random_normal([1]), name = 'bias')\n",
    "\n",
    "hypothesis = x_train * W + b"
   ]
  },
  {
   "cell_type": "code",
   "execution_count": 3,
   "metadata": {},
   "outputs": [],
   "source": [
    "cost = tf.reduce_mean(tf.square(hypothesis - y_train))"
   ]
  },
  {
   "cell_type": "code",
   "execution_count": 4,
   "metadata": {},
   "outputs": [],
   "source": [
    "optimizer = tf.train.GradientDescentOptimizer(learning_rate=0.01)\n",
    "train = optimizer.minimize(cost)"
   ]
  },
  {
   "cell_type": "code",
   "execution_count": 5,
   "metadata": {},
   "outputs": [],
   "source": [
    "sess = tf.Session()\n",
    "sess.run(tf.global_variables_initializer())"
   ]
  },
  {
   "cell_type": "code",
   "execution_count": 7,
   "metadata": {},
   "outputs": [
    {
     "name": "stdout",
     "output_type": "stream",
     "text": [
      "0 0.0038731827 [0.927718] [0.16431384]\n",
      "100 0.002393396 [0.9431798] [0.12916571]\n",
      "200 0.0014789696 [0.9553341] [0.10153601]\n",
      "300 0.00091391086 [0.9648886] [0.07981649]\n",
      "400 0.00056474196 [0.9723993] [0.06274301]\n",
      "500 0.0003489734 [0.97830325] [0.04932163]\n",
      "600 0.00021564553 [0.9829444] [0.03877134]\n",
      "700 0.00013325721 [0.9865927] [0.03047785]\n",
      "800 8.234411e-05 [0.9894605] [0.02395841]\n",
      "900 5.0884246e-05 [0.99171513] [0.01883356]\n",
      "1000 3.1443156e-05 [0.99348736] [0.01480479]\n",
      "1100 1.9430516e-05 [0.9948804] [0.01163793]\n",
      "1200 1.2006389e-05 [0.9959756] [0.00914846]\n",
      "1300 7.419101e-06 [0.9968364] [0.00719148]\n",
      "1400 4.5847196e-06 [0.9975132] [0.00565319]\n",
      "1500 2.8330926e-06 [0.9980451] [0.00444398]\n",
      "1600 1.7507201e-06 [0.9984632] [0.00349339]\n",
      "1700 1.0819538e-06 [0.99879193] [0.0027462]\n",
      "1800 6.685711e-07 [0.99905026] [0.00215885]\n",
      "1900 4.1321255e-07 [0.99925333] [0.00169718]\n",
      "2000 2.554311e-07 [0.999413] [0.00133429]\n",
      "2100 1.578435e-07 [0.99953854] [0.00104902]\n",
      "2200 9.757978e-08 [0.9996372] [0.00082482]\n",
      "2300 6.034244e-08 [0.9997147] [0.00064862]\n",
      "2400 3.7326515e-08 [0.99977547] [0.00051011]\n",
      "2500 2.3104292e-08 [0.99982333] [0.00040123]\n",
      "2600 1.4307356e-08 [0.9998612] [0.00031569]\n",
      "2700 8.849952e-09 [0.9998907] [0.00024835]\n",
      "2800 5.4745706e-09 [0.999914] [0.00019542]\n",
      "2900 3.3897816e-09 [0.9999324] [0.00015391]\n",
      "3000 2.1123203e-09 [0.99994653] [0.00012114]\n"
     ]
    }
   ],
   "source": [
    "for step in range(3001):\n",
    "    sess.run(train)\n",
    "    if step % 100 == 0:\n",
    "        print(step, sess.run(cost), sess.run(W), sess.run(b))"
   ]
  },
  {
   "cell_type": "markdown",
   "metadata": {},
   "source": [
    "## Placeholder"
   ]
  },
  {
   "cell_type": "code",
   "execution_count": 28,
   "metadata": {},
   "outputs": [],
   "source": [
    "import tensorflow as tf\n",
    "\n",
    "W = tf.Variable(tf.random_normal([1]), name='weight')\n",
    "b = tf.Variable(tf.random_normal([1]), name ='bias')\n",
    "X = tf.placeholder(tf.float32, shape=[None]) #hypothesis변수 확인\n",
    "Y = tf.placeholder(tf.float32, shape=[None]) #cost변수 확인\n",
    "\n",
    "hypothesis = X * W + b\n",
    "\n",
    "cost = tf.reduce_mean(tf.square(hypothesis - Y))\n",
    "optimizer = tf.train.GradientDescentOptimizer(learning_rate=0.01)\n",
    "train = optimizer.minimize(cost)\n",
    "\n",
    "sess = tf.Session()\n",
    "sess.run(tf.global_variables_initializer())"
   ]
  },
  {
   "cell_type": "markdown",
   "metadata": {},
   "source": [
    "#측정이 필요한 값을 직접 입력\n",
    "for step in range(2001):\n",
    "    cost_val, W_val, b_val, _ = sess.run([cost, W, b, train], feed_dict={X:[1,2,3,4,5], Y:[4,8,12,16,20]})\n",
    "    if step % 200 == 0:\n",
    "        print(step, cost_val, W_val, b_val)"
   ]
  },
  {
   "cell_type": "markdown",
   "metadata": {},
   "source": [
    "## multi-variable linear regression"
   ]
  },
  {
   "cell_type": "code",
   "execution_count": 1,
   "metadata": {},
   "outputs": [],
   "source": [
    "import tensorflow as tf"
   ]
  },
  {
   "cell_type": "code",
   "execution_count": 3,
   "metadata": {},
   "outputs": [
    {
     "name": "stdout",
     "output_type": "stream",
     "text": [
      "0 Cost:  76055.86 \n",
      "Prediction: \n",
      " [[ -91.93518]\n",
      " [-110.16585]\n",
      " [-108.56682]\n",
      " [-120.69072]\n",
      " [ -81.80408]]\n",
      "500 Cost:  0.90217364 \n",
      "Prediction: \n",
      " [[152.69662]\n",
      " [183.99086]\n",
      " [181.20287]\n",
      " [194.88937]\n",
      " [142.5717 ]]\n",
      "1000 Cost:  0.8667717 \n",
      "Prediction: \n",
      " [[152.63568]\n",
      " [184.03069]\n",
      " [181.18167]\n",
      " [194.89339]\n",
      " [142.60767]]\n",
      "1500 Cost:  0.83639276 \n",
      "Prediction: \n",
      " [[152.58145]\n",
      " [184.06593]\n",
      " [181.16258]\n",
      " [194.89865]\n",
      " [142.63783]]\n",
      "2000 Cost:  0.80989206 \n",
      "Prediction: \n",
      " [[152.53307]\n",
      " [184.09717]\n",
      " [181.14531]\n",
      " [194.90503]\n",
      " [142.66295]]\n"
     ]
    }
   ],
   "source": [
    "x_data = [[73., 80.,75], [93.,88.,93.],[89.,91.,90.],[96.,98.,100],[73.,66.,70.]]\n",
    "y_data = [[152.],[185.],[180.],[196.],[142.]]\n",
    "\n",
    "# placeholder for a tensor that will be always fed.\n",
    "\n",
    "X = tf.placeholder(tf.float32, shape=[None, 3])\n",
    "Y = tf.placeholder(tf.float32, shape=[None, 1])\n",
    "\n",
    "W = tf.Variable(tf.random_normal([3,1]), name='weight')\n",
    "b = tf.Variable(tf.random_normal([1]), name = 'bias')\n",
    "\n",
    "#Hypothesis\n",
    "\n",
    "hypothesis = tf.matmul(X,W) + b\n",
    "\n",
    "cost = tf.reduce_mean(tf.square(hypothesis - Y))\n",
    "optimizer = tf.train.GradientDescentOptimizer(learning_rate=1e-5)\n",
    "train = optimizer.minimize(cost)\n",
    "\n",
    "sess = tf.Session()\n",
    "sess.run(tf.global_variables_initializer())\n",
    "\n",
    "for step in range(2001):\n",
    "    cost_val, hy_val, _ = sess.run([cost, hypothesis, train], feed_dict={X:x_data, Y:y_data})\n",
    "    if step % 500 == 0:\n",
    "        print(step, 'Cost: ', cost_val, '\\nPrediction: \\n', hy_val)\n"
   ]
  },
  {
   "cell_type": "markdown",
   "metadata": {},
   "source": [
    "## loading DATA"
   ]
  },
  {
   "cell_type": "markdown",
   "metadata": {},
   "source": [
    "import numpy as np\n",
    "import tensorflow as tf\n",
    "\n",
    "xy = np.loadtxt('data-01-test-score.csv', delimiter=',', dtype=np.float32)\n",
    "x_data = xy[:, 0:-1]\n",
    "y_data = xy[:,[-1]]\n",
    "\n",
    "X = tf.placeholder(tf.float32, shape=[None, 3])\n",
    "Y = tf.placeholder(tf.float32, shape=[None, 1])\n",
    "\n",
    "W = tf.Variable(tf.random_normal([3,1]), name='weight')\n",
    "b = tf.Variable(tf.random_normal([1]), name='bias')\n",
    "\n",
    "hypothesis = tf.matmul(X,W)+ b\n",
    "\n",
    "cost = tf.reduce_mean(tf.square(hypothesis - Y))\n",
    "\n",
    "optimizer = tf.train.GradientDescentOptimizer(learning_rate=1e-5)\n",
    "train = optimizer.minimize(cost)\n",
    "\n",
    "sess = tf.Session()\n",
    "sess.run(tf.global_variables_initializer())\n",
    "\n",
    "for step in range(5001):\n",
    "    cost_val, hy_val, _ = sess.run([cost, hypothesis, train], feed_dict={X:x_data, Y:y_data})\n",
    "    if step % 1000 == 0:\n",
    "        print(step, 'Cost: ', cost_val, '\\nPrediction: \\n', hy_val)\n"
   ]
  },
  {
   "cell_type": "markdown",
   "metadata": {},
   "source": [
    "### 다른 사람 성적 예측"
   ]
  },
  {
   "cell_type": "code",
   "execution_count": 23,
   "metadata": {},
   "outputs": [
    {
     "name": "stdout",
     "output_type": "stream",
     "text": [
      "You score will be [[193.0142]]\n",
      "Other score will be [[175.95093]\n",
      " [174.30179]]\n"
     ]
    }
   ],
   "source": [
    "print('You score will be', sess.run(hypothesis, feed_dict={X:[[100,70, 101]]}))\n",
    "print('Other score will be', sess.run(hypothesis, feed_dict={X:[[60,70,110], [90,100,80]]}))"
   ]
  },
  {
   "cell_type": "markdown",
   "metadata": {},
   "source": [
    "# 데이터가 너무 많아서 numpy 에 로드가 안될때"
   ]
  },
  {
   "cell_type": "markdown",
   "metadata": {},
   "source": [
    "> Queue Runner"
   ]
  },
  {
   "cell_type": "code",
   "execution_count": null,
   "metadata": {},
   "outputs": [],
   "source": []
  }
 ],
 "metadata": {
  "kernelspec": {
   "display_name": "Python 3",
   "language": "python",
   "name": "python3"
  },
  "language_info": {
   "codemirror_mode": {
    "name": "ipython",
    "version": 3
   },
   "file_extension": ".py",
   "mimetype": "text/x-python",
   "name": "python",
   "nbconvert_exporter": "python",
   "pygments_lexer": "ipython3",
   "version": "3.6.8"
  }
 },
 "nbformat": 4,
 "nbformat_minor": 2
}
